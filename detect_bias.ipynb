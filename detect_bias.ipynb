{
 "cells": [
  {
   "cell_type": "code",
   "execution_count": null,
   "id": "e37898a4",
   "metadata": {},
   "outputs": [],
   "source": [
    "import pandas as pd\n",
    "import matplotlib.pyplot as plt"
   ]
  },
  {
   "cell_type": "code",
   "execution_count": null,
   "id": "5d507ba9",
   "metadata": {},
   "outputs": [],
   "source": [
    "df = pd.read_csv(\"recruitment_data.csv\")"
   ]
  },
  {
   "cell_type": "markdown",
   "id": "745adb4a",
   "metadata": {},
   "source": [
    "Check for gender bias: Compare hire rates by gender"
   ]
  },
  {
   "cell_type": "code",
   "execution_count": null,
   "id": "9576befc",
   "metadata": {},
   "outputs": [],
   "source": [
    "gender_hire_rates = df.groupby('Gender')['HiringDecision'].mean().reset_index()\n",
    "gender_hire_rates['Gender'] = gender_hire_rates['Gender'].map({0: 'Male', 1: 'Female'})"
   ]
  },
  {
   "cell_type": "code",
   "execution_count": null,
   "id": "60bd7661",
   "metadata": {},
   "outputs": [],
   "source": [
    "# plot results\n",
    "plt.figure(figsize=(8, 4))\n",
    "plt.bar(gender_hire_rates['Gender'], gender_hire_rates['HiringDecision'], color=['blue', 'pink'])\n",
    "plt.title(\"Hire Rate by Gender\")\n",
    "plt.ylabel(\"Probability of Being Hired\")\n",
    "plt.ylim(0, 1)\n",
    "plt.show()"
   ]
  },
  {
   "cell_type": "markdown",
   "id": "3ce64a0a",
   "metadata": {},
   "source": [
    "Check for age bias"
   ]
  },
  {
   "cell_type": "code",
   "execution_count": null,
   "id": "2207170b",
   "metadata": {},
   "outputs": [],
   "source": [
    "# Bin ages into groups (e.g., 20-30, 30-40)\n",
    "df['AgeGroup'] = pd.cut(df['Age'], bins=[20, 30, 40, 50], labels=['20-30', '30-40', '40-50'])\n",
    "\n",
    "# Compare hire rates by age group\n",
    "age_hire_rates = df.groupby('AgeGroup')['HiringDecision'].mean()\n",
    "age_hire_rates.plot(kind='bar', title=\"Hire Rate by Age Group\")"
   ]
  },
  {
   "cell_type": "code",
   "execution_count": null,
   "id": "fc941c30",
   "metadata": {},
   "outputs": [],
   "source": []
  }
 ],
 "metadata": {
  "kernelspec": {
   "display_name": ".venv",
   "language": "python",
   "name": "python3"
  },
  "language_info": {
   "name": "python",
   "version": "3.11.9"
  }
 },
 "nbformat": 4,
 "nbformat_minor": 5
}
